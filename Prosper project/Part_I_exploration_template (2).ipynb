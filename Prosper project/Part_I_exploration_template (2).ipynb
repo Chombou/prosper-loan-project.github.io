{
 "cells": [
  {
   "cell_type": "markdown",
   "metadata": {},
   "source": [
    "# Prosper Loan data Exploration\n",
    "\n",
    "## by (Alice Kiarie)\n",
    "\n",
    "## Introduction\n",
    "> Prosper loan dataset was a recorded from a loan lending company capturing various deatails about the loan, borrower details, loan status, interest rates,lending details etc \n",
    "\n",
    "## Preliminary Wrangling\n"
   ]
  },
  {
   "cell_type": "code",
   "execution_count": 2,
   "metadata": {},
   "outputs": [],
   "source": [
    "# import all packages and set plots to be embedded inline\n",
    "import numpy as np\n",
    "import pandas as pd\n",
    "import matplotlib.pyplot as plt\n",
    "import seaborn as sb\n",
    "\n",
    "%matplotlib inline"
   ]
  },
  {
   "cell_type": "markdown",
   "metadata": {},
   "source": [
    "> Load in your dataset and describe its properties through the questions below. Try and motivate your exploration goals through this section.\n"
   ]
  },
  {
   "cell_type": "code",
   "execution_count": 3,
   "metadata": {},
   "outputs": [],
   "source": [
    "# loading the loan dataset\n",
    "loans = pd.read_csv('prosperLoanData.csv')"
   ]
  },
  {
   "cell_type": "code",
   "execution_count": 4,
   "metadata": {},
   "outputs": [
    {
     "data": {
      "text/html": [
       "<div>\n",
       "<style scoped>\n",
       "    .dataframe tbody tr th:only-of-type {\n",
       "        vertical-align: middle;\n",
       "    }\n",
       "\n",
       "    .dataframe tbody tr th {\n",
       "        vertical-align: top;\n",
       "    }\n",
       "\n",
       "    .dataframe thead th {\n",
       "        text-align: right;\n",
       "    }\n",
       "</style>\n",
       "<table border=\"1\" class=\"dataframe\">\n",
       "  <thead>\n",
       "    <tr style=\"text-align: right;\">\n",
       "      <th></th>\n",
       "      <th>ListingKey</th>\n",
       "      <th>ListingNumber</th>\n",
       "      <th>ListingCreationDate</th>\n",
       "      <th>CreditGrade</th>\n",
       "      <th>Term</th>\n",
       "      <th>LoanStatus</th>\n",
       "      <th>ClosedDate</th>\n",
       "      <th>BorrowerAPR</th>\n",
       "      <th>BorrowerRate</th>\n",
       "      <th>LenderYield</th>\n",
       "      <th>...</th>\n",
       "      <th>LP_ServiceFees</th>\n",
       "      <th>LP_CollectionFees</th>\n",
       "      <th>LP_GrossPrincipalLoss</th>\n",
       "      <th>LP_NetPrincipalLoss</th>\n",
       "      <th>LP_NonPrincipalRecoverypayments</th>\n",
       "      <th>PercentFunded</th>\n",
       "      <th>Recommendations</th>\n",
       "      <th>InvestmentFromFriendsCount</th>\n",
       "      <th>InvestmentFromFriendsAmount</th>\n",
       "      <th>Investors</th>\n",
       "    </tr>\n",
       "  </thead>\n",
       "  <tbody>\n",
       "    <tr>\n",
       "      <th>66140</th>\n",
       "      <td>92C93576397050294A9A67B</td>\n",
       "      <td>764100</td>\n",
       "      <td>2013-04-29 17:23:26.767000000</td>\n",
       "      <td>NaN</td>\n",
       "      <td>60</td>\n",
       "      <td>Current</td>\n",
       "      <td>NaN</td>\n",
       "      <td>0.22283</td>\n",
       "      <td>0.1984</td>\n",
       "      <td>0.1884</td>\n",
       "      <td>...</td>\n",
       "      <td>-79.48</td>\n",
       "      <td>0.0</td>\n",
       "      <td>0.00</td>\n",
       "      <td>0.00</td>\n",
       "      <td>0.0</td>\n",
       "      <td>1.0</td>\n",
       "      <td>1</td>\n",
       "      <td>0</td>\n",
       "      <td>0.0</td>\n",
       "      <td>142</td>\n",
       "    </tr>\n",
       "    <tr>\n",
       "      <th>73020</th>\n",
       "      <td>417233820910602917EAFE1</td>\n",
       "      <td>101994</td>\n",
       "      <td>2007-02-20 23:41:29.963000000</td>\n",
       "      <td>D</td>\n",
       "      <td>36</td>\n",
       "      <td>Completed</td>\n",
       "      <td>2008-12-16 00:00:00</td>\n",
       "      <td>0.17722</td>\n",
       "      <td>0.1700</td>\n",
       "      <td>0.1600</td>\n",
       "      <td>...</td>\n",
       "      <td>-78.01</td>\n",
       "      <td>0.0</td>\n",
       "      <td>0.00</td>\n",
       "      <td>0.00</td>\n",
       "      <td>0.0</td>\n",
       "      <td>1.0</td>\n",
       "      <td>0</td>\n",
       "      <td>0</td>\n",
       "      <td>0.0</td>\n",
       "      <td>70</td>\n",
       "    </tr>\n",
       "    <tr>\n",
       "      <th>18101</th>\n",
       "      <td>9E5933664650122314C7C68</td>\n",
       "      <td>20522</td>\n",
       "      <td>2006-06-19 12:11:52.210000000</td>\n",
       "      <td>C</td>\n",
       "      <td>36</td>\n",
       "      <td>Defaulted</td>\n",
       "      <td>2007-01-26 00:00:00</td>\n",
       "      <td>0.21739</td>\n",
       "      <td>0.2100</td>\n",
       "      <td>0.2050</td>\n",
       "      <td>...</td>\n",
       "      <td>-2.88</td>\n",
       "      <td>0.0</td>\n",
       "      <td>6849.03</td>\n",
       "      <td>6849.02</td>\n",
       "      <td>0.0</td>\n",
       "      <td>1.0</td>\n",
       "      <td>0</td>\n",
       "      <td>0</td>\n",
       "      <td>0.0</td>\n",
       "      <td>78</td>\n",
       "    </tr>\n",
       "    <tr>\n",
       "      <th>55261</th>\n",
       "      <td>BA1B346209841399986228F</td>\n",
       "      <td>423569</td>\n",
       "      <td>2009-09-08 13:27:47.967000000</td>\n",
       "      <td>NaN</td>\n",
       "      <td>36</td>\n",
       "      <td>Completed</td>\n",
       "      <td>2010-12-14 00:00:00</td>\n",
       "      <td>0.11088</td>\n",
       "      <td>0.0790</td>\n",
       "      <td>0.0690</td>\n",
       "      <td>...</td>\n",
       "      <td>-10.71</td>\n",
       "      <td>0.0</td>\n",
       "      <td>0.00</td>\n",
       "      <td>0.00</td>\n",
       "      <td>0.0</td>\n",
       "      <td>1.0</td>\n",
       "      <td>3</td>\n",
       "      <td>0</td>\n",
       "      <td>0.0</td>\n",
       "      <td>54</td>\n",
       "    </tr>\n",
       "    <tr>\n",
       "      <th>91343</th>\n",
       "      <td>71943496501716119273492</td>\n",
       "      <td>479713</td>\n",
       "      <td>2010-10-14 07:26:59.380000000</td>\n",
       "      <td>NaN</td>\n",
       "      <td>36</td>\n",
       "      <td>Completed</td>\n",
       "      <td>2011-10-13 00:00:00</td>\n",
       "      <td>0.34548</td>\n",
       "      <td>0.2845</td>\n",
       "      <td>0.2745</td>\n",
       "      <td>...</td>\n",
       "      <td>-6.91</td>\n",
       "      <td>0.0</td>\n",
       "      <td>0.00</td>\n",
       "      <td>0.00</td>\n",
       "      <td>0.0</td>\n",
       "      <td>1.0</td>\n",
       "      <td>0</td>\n",
       "      <td>0</td>\n",
       "      <td>0.0</td>\n",
       "      <td>83</td>\n",
       "    </tr>\n",
       "  </tbody>\n",
       "</table>\n",
       "<p>5 rows × 81 columns</p>\n",
       "</div>"
      ],
      "text/plain": [
       "                    ListingKey  ListingNumber            ListingCreationDate  \\\n",
       "66140  92C93576397050294A9A67B         764100  2013-04-29 17:23:26.767000000   \n",
       "73020  417233820910602917EAFE1         101994  2007-02-20 23:41:29.963000000   \n",
       "18101  9E5933664650122314C7C68          20522  2006-06-19 12:11:52.210000000   \n",
       "55261  BA1B346209841399986228F         423569  2009-09-08 13:27:47.967000000   \n",
       "91343  71943496501716119273492         479713  2010-10-14 07:26:59.380000000   \n",
       "\n",
       "      CreditGrade  Term LoanStatus           ClosedDate  BorrowerAPR  \\\n",
       "66140         NaN    60    Current                  NaN      0.22283   \n",
       "73020           D    36  Completed  2008-12-16 00:00:00      0.17722   \n",
       "18101           C    36  Defaulted  2007-01-26 00:00:00      0.21739   \n",
       "55261         NaN    36  Completed  2010-12-14 00:00:00      0.11088   \n",
       "91343         NaN    36  Completed  2011-10-13 00:00:00      0.34548   \n",
       "\n",
       "       BorrowerRate  LenderYield  ...  LP_ServiceFees  LP_CollectionFees  \\\n",
       "66140        0.1984       0.1884  ...          -79.48                0.0   \n",
       "73020        0.1700       0.1600  ...          -78.01                0.0   \n",
       "18101        0.2100       0.2050  ...           -2.88                0.0   \n",
       "55261        0.0790       0.0690  ...          -10.71                0.0   \n",
       "91343        0.2845       0.2745  ...           -6.91                0.0   \n",
       "\n",
       "       LP_GrossPrincipalLoss  LP_NetPrincipalLoss  \\\n",
       "66140                   0.00                 0.00   \n",
       "73020                   0.00                 0.00   \n",
       "18101                6849.03              6849.02   \n",
       "55261                   0.00                 0.00   \n",
       "91343                   0.00                 0.00   \n",
       "\n",
       "      LP_NonPrincipalRecoverypayments  PercentFunded  Recommendations  \\\n",
       "66140                             0.0            1.0                1   \n",
       "73020                             0.0            1.0                0   \n",
       "18101                             0.0            1.0                0   \n",
       "55261                             0.0            1.0                3   \n",
       "91343                             0.0            1.0                0   \n",
       "\n",
       "      InvestmentFromFriendsCount InvestmentFromFriendsAmount Investors  \n",
       "66140                          0                         0.0       142  \n",
       "73020                          0                         0.0        70  \n",
       "18101                          0                         0.0        78  \n",
       "55261                          0                         0.0        54  \n",
       "91343                          0                         0.0        83  \n",
       "\n",
       "[5 rows x 81 columns]"
      ]
     },
     "execution_count": 4,
     "metadata": {},
     "output_type": "execute_result"
    }
   ],
   "source": [
    "#Viewing a samle of the dataset\n",
    "loans.sample(5)"
   ]
  },
  {
   "cell_type": "code",
   "execution_count": 5,
   "metadata": {},
   "outputs": [
    {
     "name": "stdout",
     "output_type": "stream",
     "text": [
      "<class 'pandas.core.frame.DataFrame'>\n",
      "RangeIndex: 113937 entries, 0 to 113936\n",
      "Data columns (total 81 columns):\n",
      " #   Column                               Non-Null Count   Dtype  \n",
      "---  ------                               --------------   -----  \n",
      " 0   ListingKey                           113937 non-null  object \n",
      " 1   ListingNumber                        113937 non-null  int64  \n",
      " 2   ListingCreationDate                  113937 non-null  object \n",
      " 3   CreditGrade                          28953 non-null   object \n",
      " 4   Term                                 113937 non-null  int64  \n",
      " 5   LoanStatus                           113937 non-null  object \n",
      " 6   ClosedDate                           55089 non-null   object \n",
      " 7   BorrowerAPR                          113912 non-null  float64\n",
      " 8   BorrowerRate                         113937 non-null  float64\n",
      " 9   LenderYield                          113937 non-null  float64\n",
      " 10  EstimatedEffectiveYield              84853 non-null   float64\n",
      " 11  EstimatedLoss                        84853 non-null   float64\n",
      " 12  EstimatedReturn                      84853 non-null   float64\n",
      " 13  ProsperRating (numeric)              84853 non-null   float64\n",
      " 14  ProsperRating (Alpha)                84853 non-null   object \n",
      " 15  ProsperScore                         84853 non-null   float64\n",
      " 16  ListingCategory (numeric)            113937 non-null  int64  \n",
      " 17  BorrowerState                        108422 non-null  object \n",
      " 18  Occupation                           110349 non-null  object \n",
      " 19  EmploymentStatus                     111682 non-null  object \n",
      " 20  EmploymentStatusDuration             106312 non-null  float64\n",
      " 21  IsBorrowerHomeowner                  113937 non-null  bool   \n",
      " 22  CurrentlyInGroup                     113937 non-null  bool   \n",
      " 23  GroupKey                             13341 non-null   object \n",
      " 24  DateCreditPulled                     113937 non-null  object \n",
      " 25  CreditScoreRangeLower                113346 non-null  float64\n",
      " 26  CreditScoreRangeUpper                113346 non-null  float64\n",
      " 27  FirstRecordedCreditLine              113240 non-null  object \n",
      " 28  CurrentCreditLines                   106333 non-null  float64\n",
      " 29  OpenCreditLines                      106333 non-null  float64\n",
      " 30  TotalCreditLinespast7years           113240 non-null  float64\n",
      " 31  OpenRevolvingAccounts                113937 non-null  int64  \n",
      " 32  OpenRevolvingMonthlyPayment          113937 non-null  float64\n",
      " 33  InquiriesLast6Months                 113240 non-null  float64\n",
      " 34  TotalInquiries                       112778 non-null  float64\n",
      " 35  CurrentDelinquencies                 113240 non-null  float64\n",
      " 36  AmountDelinquent                     106315 non-null  float64\n",
      " 37  DelinquenciesLast7Years              112947 non-null  float64\n",
      " 38  PublicRecordsLast10Years             113240 non-null  float64\n",
      " 39  PublicRecordsLast12Months            106333 non-null  float64\n",
      " 40  RevolvingCreditBalance               106333 non-null  float64\n",
      " 41  BankcardUtilization                  106333 non-null  float64\n",
      " 42  AvailableBankcardCredit              106393 non-null  float64\n",
      " 43  TotalTrades                          106393 non-null  float64\n",
      " 44  TradesNeverDelinquent (percentage)   106393 non-null  float64\n",
      " 45  TradesOpenedLast6Months              106393 non-null  float64\n",
      " 46  DebtToIncomeRatio                    105383 non-null  float64\n",
      " 47  IncomeRange                          113937 non-null  object \n",
      " 48  IncomeVerifiable                     113937 non-null  bool   \n",
      " 49  StatedMonthlyIncome                  113937 non-null  float64\n",
      " 50  LoanKey                              113937 non-null  object \n",
      " 51  TotalProsperLoans                    22085 non-null   float64\n",
      " 52  TotalProsperPaymentsBilled           22085 non-null   float64\n",
      " 53  OnTimeProsperPayments                22085 non-null   float64\n",
      " 54  ProsperPaymentsLessThanOneMonthLate  22085 non-null   float64\n",
      " 55  ProsperPaymentsOneMonthPlusLate      22085 non-null   float64\n",
      " 56  ProsperPrincipalBorrowed             22085 non-null   float64\n",
      " 57  ProsperPrincipalOutstanding          22085 non-null   float64\n",
      " 58  ScorexChangeAtTimeOfListing          18928 non-null   float64\n",
      " 59  LoanCurrentDaysDelinquent            113937 non-null  int64  \n",
      " 60  LoanFirstDefaultedCycleNumber        16952 non-null   float64\n",
      " 61  LoanMonthsSinceOrigination           113937 non-null  int64  \n",
      " 62  LoanNumber                           113937 non-null  int64  \n",
      " 63  LoanOriginalAmount                   113937 non-null  int64  \n",
      " 64  LoanOriginationDate                  113937 non-null  object \n",
      " 65  LoanOriginationQuarter               113937 non-null  object \n",
      " 66  MemberKey                            113937 non-null  object \n",
      " 67  MonthlyLoanPayment                   113937 non-null  float64\n",
      " 68  LP_CustomerPayments                  113937 non-null  float64\n",
      " 69  LP_CustomerPrincipalPayments         113937 non-null  float64\n",
      " 70  LP_InterestandFees                   113937 non-null  float64\n",
      " 71  LP_ServiceFees                       113937 non-null  float64\n",
      " 72  LP_CollectionFees                    113937 non-null  float64\n",
      " 73  LP_GrossPrincipalLoss                113937 non-null  float64\n",
      " 74  LP_NetPrincipalLoss                  113937 non-null  float64\n",
      " 75  LP_NonPrincipalRecoverypayments      113937 non-null  float64\n",
      " 76  PercentFunded                        113937 non-null  float64\n",
      " 77  Recommendations                      113937 non-null  int64  \n",
      " 78  InvestmentFromFriendsCount           113937 non-null  int64  \n",
      " 79  InvestmentFromFriendsAmount          113937 non-null  float64\n",
      " 80  Investors                            113937 non-null  int64  \n",
      "dtypes: bool(3), float64(50), int64(11), object(17)\n",
      "memory usage: 68.1+ MB\n"
     ]
    }
   ],
   "source": [
    "# viewing the datatype and numbers of rows per variable\n",
    "loans.info()"
   ]
  },
  {
   "cell_type": "markdown",
   "metadata": {},
   "source": [
    "### What is the structure of your dataset?\n",
    "\n",
    "> This dataset contains 113977 loans with 81 variables on each loan. \n",
    "Most variables are floatin nature\n",
    "Some of the variables have alot of missing values e.g. CreditGrade, ClosedDate, EstimatedEffectiveYield, EstimatedLoss,EstimatedReturn, ProsperRating (numeric), ProsperRating (Alpha), ProsperScore,TotalProsperLoans, TotalProsperPaymentsBilled, OnTimeProsperPayments, ProsperPaymentsLessThanOneMonthLate, ProsperPaymentsOneMonthPlusLate, ProsperPrincipalBorrowed, ProsperPrincipalOutstanding, ScorexChangeAtTimeOfListing,\n",
    "\n",
    "\n",
    "### What is/are the main feature(s) of interest in your dataset?\n",
    "\n",
    "> From the loan dataset, I would like to see individual loan characteristics, relationship between two or more valiables defining loan characteristics, the borrowing characteristics and lender habits. This will be achived through plotting visualizations and drawing conclusions according to data distributions.\n",
    "Examples\n",
    "1. how does the length of the loan term affect the annual percentage rate and the loan interest rates\n",
    "2. visualize varioes loan statuses\n",
    "3. \n",
    "\n",
    "### What features in the dataset do you think will help support your investigation into your feature(s) of interest?\n",
    "\n",
    "> \n",
    "1. term\n",
    "2. loan status\n",
    "3. BorrowerAPR\n",
    "4. BorrowerRate\n",
    "5. LenderYield\n",
    "6. Listing category\n",
    "7. Occupation\n",
    "8. Employment status\n",
    "9. BorroweHomeOwner\n",
    "10. Income Range\n",
    "11. MonthlyIncome\n",
    "12. CreditScoreRangeLower\n",
    "13. CreditScoreRangeUpper\n",
    "14. CurrentCreditLines\n",
    "15. OpenCreditLines\n",
    "16. OpenRevokingLines\n",
    "17. OpenRevolvingMonthlyPayment\n"
   ]
  },
  {
   "cell_type": "markdown",
   "metadata": {},
   "source": [
    "# Data cleaning"
   ]
  },
  {
   "cell_type": "code",
   "execution_count": 6,
   "metadata": {},
   "outputs": [],
   "source": [
    "# subsetting the column of interest\n",
    "loans_data = loans[[\"Term\",\"LoanStatus\", \"BorrowerAPR\", \"BorrowerRate\", \"LenderYield\",\"ListingCategory (numeric)\", \"Occupation\", \"EmploymentStatus\", \"IsBorrowerHomeowner\",\"IncomeRange\", \"StatedMonthlyIncome\", \"CreditScoreRangeLower\", \"CreditScoreRangeUpper\", \"CurrentCreditLines\", \"OpenCreditLines\", \"TotalCreditLinespast7years\", \"OpenRevolvingMonthlyPayment\", \"OpenRevolvingAccounts\"]]"
   ]
  },
  {
   "cell_type": "code",
   "execution_count": 7,
   "metadata": {},
   "outputs": [
    {
     "data": {
      "text/html": [
       "<div>\n",
       "<style scoped>\n",
       "    .dataframe tbody tr th:only-of-type {\n",
       "        vertical-align: middle;\n",
       "    }\n",
       "\n",
       "    .dataframe tbody tr th {\n",
       "        vertical-align: top;\n",
       "    }\n",
       "\n",
       "    .dataframe thead th {\n",
       "        text-align: right;\n",
       "    }\n",
       "</style>\n",
       "<table border=\"1\" class=\"dataframe\">\n",
       "  <thead>\n",
       "    <tr style=\"text-align: right;\">\n",
       "      <th></th>\n",
       "      <th>Term</th>\n",
       "      <th>LoanStatus</th>\n",
       "      <th>BorrowerAPR</th>\n",
       "      <th>BorrowerRate</th>\n",
       "      <th>LenderYield</th>\n",
       "      <th>ListingCategory (numeric)</th>\n",
       "      <th>Occupation</th>\n",
       "      <th>EmploymentStatus</th>\n",
       "      <th>IsBorrowerHomeowner</th>\n",
       "      <th>IncomeRange</th>\n",
       "      <th>StatedMonthlyIncome</th>\n",
       "      <th>CreditScoreRangeLower</th>\n",
       "      <th>CreditScoreRangeUpper</th>\n",
       "      <th>CurrentCreditLines</th>\n",
       "      <th>OpenCreditLines</th>\n",
       "      <th>TotalCreditLinespast7years</th>\n",
       "      <th>OpenRevolvingMonthlyPayment</th>\n",
       "      <th>OpenRevolvingAccounts</th>\n",
       "    </tr>\n",
       "  </thead>\n",
       "  <tbody>\n",
       "    <tr>\n",
       "      <th>110770</th>\n",
       "      <td>60</td>\n",
       "      <td>Defaulted</td>\n",
       "      <td>0.27462</td>\n",
       "      <td>0.2489</td>\n",
       "      <td>0.2389</td>\n",
       "      <td>3</td>\n",
       "      <td>Food Service</td>\n",
       "      <td>Employed</td>\n",
       "      <td>True</td>\n",
       "      <td>$25,000-49,999</td>\n",
       "      <td>2500.000000</td>\n",
       "      <td>700.0</td>\n",
       "      <td>719.0</td>\n",
       "      <td>1.0</td>\n",
       "      <td>2.0</td>\n",
       "      <td>20.0</td>\n",
       "      <td>0.0</td>\n",
       "      <td>1</td>\n",
       "    </tr>\n",
       "    <tr>\n",
       "      <th>92608</th>\n",
       "      <td>36</td>\n",
       "      <td>Completed</td>\n",
       "      <td>0.10190</td>\n",
       "      <td>0.0950</td>\n",
       "      <td>0.0900</td>\n",
       "      <td>0</td>\n",
       "      <td>Executive</td>\n",
       "      <td>Full-time</td>\n",
       "      <td>True</td>\n",
       "      <td>$100,000+</td>\n",
       "      <td>8654.166667</td>\n",
       "      <td>780.0</td>\n",
       "      <td>799.0</td>\n",
       "      <td>11.0</td>\n",
       "      <td>8.0</td>\n",
       "      <td>57.0</td>\n",
       "      <td>35.0</td>\n",
       "      <td>7</td>\n",
       "    </tr>\n",
       "    <tr>\n",
       "      <th>97807</th>\n",
       "      <td>36</td>\n",
       "      <td>Completed</td>\n",
       "      <td>0.33097</td>\n",
       "      <td>0.2950</td>\n",
       "      <td>0.2850</td>\n",
       "      <td>1</td>\n",
       "      <td>Other</td>\n",
       "      <td>Employed</td>\n",
       "      <td>False</td>\n",
       "      <td>$25,000-49,999</td>\n",
       "      <td>3500.000000</td>\n",
       "      <td>660.0</td>\n",
       "      <td>679.0</td>\n",
       "      <td>6.0</td>\n",
       "      <td>5.0</td>\n",
       "      <td>12.0</td>\n",
       "      <td>78.0</td>\n",
       "      <td>4</td>\n",
       "    </tr>\n",
       "    <tr>\n",
       "      <th>44990</th>\n",
       "      <td>36</td>\n",
       "      <td>Current</td>\n",
       "      <td>0.32446</td>\n",
       "      <td>0.2850</td>\n",
       "      <td>0.2750</td>\n",
       "      <td>1</td>\n",
       "      <td>Engineer - Mechanical</td>\n",
       "      <td>Employed</td>\n",
       "      <td>True</td>\n",
       "      <td>$50,000-74,999</td>\n",
       "      <td>4500.000000</td>\n",
       "      <td>640.0</td>\n",
       "      <td>659.0</td>\n",
       "      <td>5.0</td>\n",
       "      <td>5.0</td>\n",
       "      <td>28.0</td>\n",
       "      <td>128.0</td>\n",
       "      <td>5</td>\n",
       "    </tr>\n",
       "    <tr>\n",
       "      <th>99597</th>\n",
       "      <td>36</td>\n",
       "      <td>Current</td>\n",
       "      <td>0.35797</td>\n",
       "      <td>0.3177</td>\n",
       "      <td>0.3077</td>\n",
       "      <td>2</td>\n",
       "      <td>Scientist</td>\n",
       "      <td>Employed</td>\n",
       "      <td>True</td>\n",
       "      <td>$100,000+</td>\n",
       "      <td>15000.000000</td>\n",
       "      <td>700.0</td>\n",
       "      <td>719.0</td>\n",
       "      <td>11.0</td>\n",
       "      <td>10.0</td>\n",
       "      <td>40.0</td>\n",
       "      <td>1040.0</td>\n",
       "      <td>7</td>\n",
       "    </tr>\n",
       "  </tbody>\n",
       "</table>\n",
       "</div>"
      ],
      "text/plain": [
       "        Term LoanStatus  BorrowerAPR  BorrowerRate  LenderYield  \\\n",
       "110770    60  Defaulted      0.27462        0.2489       0.2389   \n",
       "92608     36  Completed      0.10190        0.0950       0.0900   \n",
       "97807     36  Completed      0.33097        0.2950       0.2850   \n",
       "44990     36    Current      0.32446        0.2850       0.2750   \n",
       "99597     36    Current      0.35797        0.3177       0.3077   \n",
       "\n",
       "        ListingCategory (numeric)             Occupation EmploymentStatus  \\\n",
       "110770                          3           Food Service         Employed   \n",
       "92608                           0              Executive        Full-time   \n",
       "97807                           1                  Other         Employed   \n",
       "44990                           1  Engineer - Mechanical         Employed   \n",
       "99597                           2              Scientist         Employed   \n",
       "\n",
       "        IsBorrowerHomeowner     IncomeRange  StatedMonthlyIncome  \\\n",
       "110770                 True  $25,000-49,999          2500.000000   \n",
       "92608                  True       $100,000+          8654.166667   \n",
       "97807                 False  $25,000-49,999          3500.000000   \n",
       "44990                  True  $50,000-74,999          4500.000000   \n",
       "99597                  True       $100,000+         15000.000000   \n",
       "\n",
       "        CreditScoreRangeLower  CreditScoreRangeUpper  CurrentCreditLines  \\\n",
       "110770                  700.0                  719.0                 1.0   \n",
       "92608                   780.0                  799.0                11.0   \n",
       "97807                   660.0                  679.0                 6.0   \n",
       "44990                   640.0                  659.0                 5.0   \n",
       "99597                   700.0                  719.0                11.0   \n",
       "\n",
       "        OpenCreditLines  TotalCreditLinespast7years  \\\n",
       "110770              2.0                        20.0   \n",
       "92608               8.0                        57.0   \n",
       "97807               5.0                        12.0   \n",
       "44990               5.0                        28.0   \n",
       "99597              10.0                        40.0   \n",
       "\n",
       "        OpenRevolvingMonthlyPayment  OpenRevolvingAccounts  \n",
       "110770                          0.0                      1  \n",
       "92608                          35.0                      7  \n",
       "97807                          78.0                      4  \n",
       "44990                         128.0                      5  \n",
       "99597                        1040.0                      7  "
      ]
     },
     "execution_count": 7,
     "metadata": {},
     "output_type": "execute_result"
    }
   ],
   "source": [
    "# viewin a sample of the data\n",
    "loans_data.sample(5)"
   ]
  },
  {
   "cell_type": "code",
   "execution_count": 8,
   "metadata": {},
   "outputs": [
    {
     "name": "stdout",
     "output_type": "stream",
     "text": [
      "<class 'pandas.core.frame.DataFrame'>\n",
      "RangeIndex: 113937 entries, 0 to 113936\n",
      "Data columns (total 18 columns):\n",
      " #   Column                       Non-Null Count   Dtype  \n",
      "---  ------                       --------------   -----  \n",
      " 0   Term                         113937 non-null  int64  \n",
      " 1   LoanStatus                   113937 non-null  object \n",
      " 2   BorrowerAPR                  113912 non-null  float64\n",
      " 3   BorrowerRate                 113937 non-null  float64\n",
      " 4   LenderYield                  113937 non-null  float64\n",
      " 5   ListingCategory (numeric)    113937 non-null  int64  \n",
      " 6   Occupation                   110349 non-null  object \n",
      " 7   EmploymentStatus             111682 non-null  object \n",
      " 8   IsBorrowerHomeowner          113937 non-null  bool   \n",
      " 9   IncomeRange                  113937 non-null  object \n",
      " 10  StatedMonthlyIncome          113937 non-null  float64\n",
      " 11  CreditScoreRangeLower        113346 non-null  float64\n",
      " 12  CreditScoreRangeUpper        113346 non-null  float64\n",
      " 13  CurrentCreditLines           106333 non-null  float64\n",
      " 14  OpenCreditLines              106333 non-null  float64\n",
      " 15  TotalCreditLinespast7years   113240 non-null  float64\n",
      " 16  OpenRevolvingMonthlyPayment  113937 non-null  float64\n",
      " 17  OpenRevolvingAccounts        113937 non-null  int64  \n",
      "dtypes: bool(1), float64(10), int64(3), object(4)\n",
      "memory usage: 14.9+ MB\n"
     ]
    }
   ],
   "source": [
    "loans_data.info()"
   ]
  },
  {
   "cell_type": "code",
   "execution_count": 9,
   "metadata": {},
   "outputs": [
    {
     "data": {
      "text/plain": [
       "0.35797    3672\n",
       "0.35643    1644\n",
       "0.37453    1260\n",
       "0.30532     902\n",
       "0.29510     747\n",
       "           ... \n",
       "0.37266       1\n",
       "0.27518       1\n",
       "0.18477       1\n",
       "0.29961       1\n",
       "0.19543       1\n",
       "Name: BorrowerAPR, Length: 6677, dtype: int64"
      ]
     },
     "execution_count": 9,
     "metadata": {},
     "output_type": "execute_result"
    }
   ],
   "source": [
    "loans_data['BorrowerAPR'].value_counts()"
   ]
  },
  {
   "cell_type": "code",
   "execution_count": 10,
   "metadata": {},
   "outputs": [
    {
     "data": {
      "text/plain": [
       "0.3177    3672\n",
       "0.3500    1905\n",
       "0.3199    1651\n",
       "0.2900    1508\n",
       "0.2699    1319\n",
       "          ... \n",
       "0.2201       1\n",
       "0.0752       1\n",
       "0.1416       1\n",
       "0.2812       1\n",
       "0.0739       1\n",
       "Name: BorrowerRate, Length: 2294, dtype: int64"
      ]
     },
     "execution_count": 10,
     "metadata": {},
     "output_type": "execute_result"
    }
   ],
   "source": [
    "loans_data['BorrowerRate'].value_counts()"
   ]
  },
  {
   "cell_type": "code",
   "execution_count": 11,
   "metadata": {},
   "outputs": [
    {
     "data": {
      "text/plain": [
       "Term                              0\n",
       "LoanStatus                        0\n",
       "BorrowerAPR                      25\n",
       "BorrowerRate                      0\n",
       "LenderYield                       0\n",
       "ListingCategory (numeric)         0\n",
       "Occupation                     3588\n",
       "EmploymentStatus               2255\n",
       "IsBorrowerHomeowner               0\n",
       "IncomeRange                       0\n",
       "StatedMonthlyIncome               0\n",
       "CreditScoreRangeLower           591\n",
       "CreditScoreRangeUpper           591\n",
       "CurrentCreditLines             7604\n",
       "OpenCreditLines                7604\n",
       "TotalCreditLinespast7years      697\n",
       "OpenRevolvingMonthlyPayment       0\n",
       "OpenRevolvingAccounts             0\n",
       "dtype: int64"
      ]
     },
     "execution_count": 11,
     "metadata": {},
     "output_type": "execute_result"
    }
   ],
   "source": [
    "# finding out the total number of null values in our dataset\n",
    "loans_data.isnull().sum()"
   ]
  },
  {
   "cell_type": "code",
   "execution_count": 12,
   "metadata": {},
   "outputs": [
    {
     "name": "stdout",
     "output_type": "stream",
     "text": [
      "        Term              LoanStatus  BorrowerAPR  BorrowerRate  LenderYield  \\\n",
      "0         36               Completed      0.16516        0.1580       0.1380   \n",
      "1         36                 Current      0.12016        0.0920       0.0820   \n",
      "3         36                 Current      0.12528        0.0974       0.0874   \n",
      "4         36                 Current      0.24614        0.2085       0.1985   \n",
      "5         60                 Current      0.15425        0.1314       0.1214   \n",
      "...      ...                     ...          ...           ...          ...   \n",
      "113932    36                 Current      0.22354        0.1864       0.1764   \n",
      "113933    36  FinalPaymentInProgress      0.13220        0.1110       0.1010   \n",
      "113934    60                 Current      0.23984        0.2150       0.2050   \n",
      "113935    60               Completed      0.28408        0.2605       0.2505   \n",
      "113936    36                 Current      0.13189        0.1039       0.0939   \n",
      "\n",
      "        ListingCategory (numeric)               Occupation EmploymentStatus  \\\n",
      "0                               0                    Other    Self-employed   \n",
      "1                               2             Professional         Employed   \n",
      "3                              16            Skilled Labor         Employed   \n",
      "4                               2                Executive         Employed   \n",
      "5                               1             Professional         Employed   \n",
      "...                           ...                      ...              ...   \n",
      "113932                          1  Food Service Management         Employed   \n",
      "113933                          7             Professional         Employed   \n",
      "113934                          1                    Other         Employed   \n",
      "113935                          2             Food Service        Full-time   \n",
      "113936                          1                Professor         Employed   \n",
      "\n",
      "        IsBorrowerHomeowner     IncomeRange  StatedMonthlyIncome  \\\n",
      "0                      True  $25,000-49,999          3083.333333   \n",
      "1                     False  $50,000-74,999          6125.000000   \n",
      "3                      True  $25,000-49,999          2875.000000   \n",
      "4                      True       $100,000+          9583.333333   \n",
      "5                      True       $100,000+          8333.333333   \n",
      "...                     ...             ...                  ...   \n",
      "113932                 True  $50,000-74,999          4333.333333   \n",
      "113933                 True  $75,000-99,999          8041.666667   \n",
      "113934                 True  $25,000-49,999          2875.000000   \n",
      "113935                 True  $25,000-49,999          3875.000000   \n",
      "113936                False  $50,000-74,999          4583.333333   \n",
      "\n",
      "        CreditScoreRangeLower  CreditScoreRangeUpper  CurrentCreditLines  \\\n",
      "0                       640.0                  659.0                 5.0   \n",
      "1                       680.0                  699.0                14.0   \n",
      "3                       800.0                  819.0                 5.0   \n",
      "4                       680.0                  699.0                19.0   \n",
      "5                       740.0                  759.0                21.0   \n",
      "...                       ...                    ...                 ...   \n",
      "113932                  700.0                  719.0                 9.0   \n",
      "113933                  700.0                  719.0                14.0   \n",
      "113934                  700.0                  719.0                12.0   \n",
      "113935                  680.0                  699.0                11.0   \n",
      "113936                  680.0                  699.0                10.0   \n",
      "\n",
      "        OpenCreditLines  TotalCreditLinespast7years  \\\n",
      "0                   4.0                        12.0   \n",
      "1                  14.0                        29.0   \n",
      "3                   5.0                        29.0   \n",
      "4                  19.0                        49.0   \n",
      "5                  17.0                        49.0   \n",
      "...                 ...                         ...   \n",
      "113932              9.0                        41.0   \n",
      "113933             13.0                        39.0   \n",
      "113934             12.0                        25.0   \n",
      "113935             11.0                        22.0   \n",
      "113936              9.0                        44.0   \n",
      "\n",
      "        OpenRevolvingMonthlyPayment  OpenRevolvingAccounts  \n",
      "0                              24.0                      1  \n",
      "1                             389.0                     13  \n",
      "3                             115.0                      7  \n",
      "4                             220.0                      6  \n",
      "5                            1410.0                     13  \n",
      "...                             ...                    ...  \n",
      "113932                        209.0                      9  \n",
      "113933                        495.0                      9  \n",
      "113934                        521.0                      9  \n",
      "113935                        488.0                      7  \n",
      "113936                        289.0                      8  \n",
      "\n",
      "[104980 rows x 18 columns]\n"
     ]
    },
    {
     "name": "stderr",
     "output_type": "stream",
     "text": [
      "C:\\Users\\AKiarie\\AppData\\Local\\Temp\\ipykernel_13780\\2326977126.py:2: SettingWithCopyWarning: \n",
      "A value is trying to be set on a copy of a slice from a DataFrame\n",
      "\n",
      "See the caveats in the documentation: https://pandas.pydata.org/pandas-docs/stable/user_guide/indexing.html#returning-a-view-versus-a-copy\n",
      "  loans_data.dropna(inplace=True)\n"
     ]
    }
   ],
   "source": [
    "#dropping all the null values\n",
    "loans_data.dropna(inplace=True)\n",
    "print(loans_data)"
   ]
  },
  {
   "cell_type": "code",
   "execution_count": 13,
   "metadata": {},
   "outputs": [
    {
     "name": "stdout",
     "output_type": "stream",
     "text": [
      "<class 'pandas.core.frame.DataFrame'>\n",
      "Int64Index: 104980 entries, 0 to 113936\n",
      "Data columns (total 18 columns):\n",
      " #   Column                       Non-Null Count   Dtype  \n",
      "---  ------                       --------------   -----  \n",
      " 0   Term                         104980 non-null  int64  \n",
      " 1   LoanStatus                   104980 non-null  object \n",
      " 2   BorrowerAPR                  104980 non-null  float64\n",
      " 3   BorrowerRate                 104980 non-null  float64\n",
      " 4   LenderYield                  104980 non-null  float64\n",
      " 5   ListingCategory (numeric)    104980 non-null  int64  \n",
      " 6   Occupation                   104980 non-null  object \n",
      " 7   EmploymentStatus             104980 non-null  object \n",
      " 8   IsBorrowerHomeowner          104980 non-null  bool   \n",
      " 9   IncomeRange                  104980 non-null  object \n",
      " 10  StatedMonthlyIncome          104980 non-null  float64\n",
      " 11  CreditScoreRangeLower        104980 non-null  float64\n",
      " 12  CreditScoreRangeUpper        104980 non-null  float64\n",
      " 13  CurrentCreditLines           104980 non-null  float64\n",
      " 14  OpenCreditLines              104980 non-null  float64\n",
      " 15  TotalCreditLinespast7years   104980 non-null  float64\n",
      " 16  OpenRevolvingMonthlyPayment  104980 non-null  float64\n",
      " 17  OpenRevolvingAccounts        104980 non-null  int64  \n",
      "dtypes: bool(1), float64(10), int64(3), object(4)\n",
      "memory usage: 14.5+ MB\n"
     ]
    }
   ],
   "source": [
    "loans_data.info()"
   ]
  },
  {
   "cell_type": "code",
   "execution_count": 14,
   "metadata": {},
   "outputs": [
    {
     "data": {
      "text/plain": [
       "Employed         67322\n",
       "Full-time        26341\n",
       "Self-employed     6132\n",
       "Other             2474\n",
       "Part-time         1084\n",
       "Not employed       832\n",
       "Retired            795\n",
       "Name: EmploymentStatus, dtype: int64"
      ]
     },
     "execution_count": 14,
     "metadata": {},
     "output_type": "execute_result"
    }
   ],
   "source": [
    "loans_data['EmploymentStatus'].value_counts()"
   ]
  },
  {
   "cell_type": "code",
   "execution_count": 25,
   "metadata": {},
   "outputs": [],
   "source": [
    "# selecting 500 random rows to represent the dataset\n",
    "np.random.seed(1)\n",
    "sample_loansdata = loans_data.sample(500)"
   ]
  },
  {
   "cell_type": "markdown",
   "metadata": {},
   "source": [
    "# questions\n",
    "\n",
    "1. What factors affect a loan’s outcome status?\n",
    "2. What affects the borrower’s APR or interest rate?\n",
    "3. Are there differences between loans depending on how large the original loan amount was?\n",
    "\n",
    "1. how is the the loans interset rate affected by the duration(term) of the loan"
   ]
  },
  {
   "cell_type": "markdown",
   "metadata": {},
   "source": [
    "## Univariate Exploration\n",
    "\n",
    "> In this section, investigate distributions of individual variables. If\n",
    "you see unusual points or outliers, take a deeper look to clean things up\n",
    "and prepare yourself to look at relationships between variables.\n",
    "\n",
    "\n",
    "> **Rubric Tip**: The project (Parts I alone) should have at least 15 visualizations distributed over univariate, bivariate, and multivariate plots to explore many relationships in the data set.  Use reasoning to justify the flow of the exploration.\n",
    "\n",
    "\n",
    "\n",
    ">**Rubric Tip**: Use the \"Question-Visualization-Observations\" framework  throughout the exploration. This framework involves **asking a question from the data, creating a visualization to find answers, and then recording observations after each visualisation.** \n"
   ]
  },
  {
   "cell_type": "markdown",
   "metadata": {},
   "source": [
    "# question\n",
    "What duration of the loan did majority of the people prefer"
   ]
  },
  {
   "cell_type": "code",
   "execution_count": 26,
   "metadata": {},
   "outputs": [
    {
     "data": {
      "text/plain": [
       "36    378\n",
       "60    116\n",
       "12      6\n",
       "Name: Term, dtype: int64"
      ]
     },
     "execution_count": 26,
     "metadata": {},
     "output_type": "execute_result"
    }
   ],
   "source": [
    "sample_loansdata['Term'].value_counts()"
   ]
  },
  {
   "cell_type": "code",
   "execution_count": 27,
   "metadata": {},
   "outputs": [
    {
     "data": {
      "image/png": "[encoded data removed]",
      "text/plain": [
       "<Figure size 432x288 with 1 Axes>"
      ]
     },
     "metadata": {
      "needs_background": "light"
     },
     "output_type": "display_data"
    }
   ],
   "source": [
    "sb.countplot(data =sample_loansdata, x = 'Term', color='black');"
   ]
  },
  {
   "cell_type": "markdown",
   "metadata": {},
   "source": [
    "# Observation\n",
    "\n",
    "Majority of the loans had a duration of 3 years folled by 5 year loans. One year loasns were the least"
   ]
  },
  {
   "cell_type": "markdown",
   "metadata": {},
   "source": [
    "# Question 2\n",
    "What id the loan status of most borrowers from the dataset"
   ]
  },
  {
   "cell_type": "code",
   "execution_count": 17,
   "metadata": {},
   "outputs": [
    {
     "ename": "NameError",
     "evalue": "name 'df_new' is not defined",
     "output_type": "error",
     "traceback": [
      "\u001b[1;31m---------------------------------------------------------------------------\u001b[0m",
      "\u001b[1;31mNameError\u001b[0m                                 Traceback (most recent call last)",
      "Input \u001b[1;32mIn [17]\u001b[0m, in \u001b[0;36m<cell line: 1>\u001b[1;34m()\u001b[0m\n\u001b[1;32m----> 1\u001b[0m credit_ordinal \u001b[38;5;241m=\u001b[39m \u001b[43mdf_new\u001b[49m[\u001b[38;5;124m'\u001b[39m\u001b[38;5;124mCreditGrade\u001b[39m\u001b[38;5;124m'\u001b[39m]\u001b[38;5;241m.\u001b[39mvalue_counts()\u001b[38;5;241m.\u001b[39mindex\u001b[38;5;241m.\u001b[39msort_values()\n\u001b[0;32m      3\u001b[0m cat_dtype \u001b[38;5;241m=\u001b[39m pd\u001b[38;5;241m.\u001b[39mapi\u001b[38;5;241m.\u001b[39mtypes\u001b[38;5;241m.\u001b[39mCategoricalDtype(ordered\u001b[38;5;241m=\u001b[39m\u001b[38;5;28;01mTrue\u001b[39;00m,categories\u001b[38;5;241m=\u001b[39mcredit_ordinal)\n\u001b[0;32m      5\u001b[0m df_new[\u001b[38;5;124m'\u001b[39m\u001b[38;5;124mCreditGrade\u001b[39m\u001b[38;5;124m'\u001b[39m] \u001b[38;5;241m=\u001b[39m df_new[\u001b[38;5;124m'\u001b[39m\u001b[38;5;124mCreditGrade\u001b[39m\u001b[38;5;124m'\u001b[39m]\u001b[38;5;241m.\u001b[39mastype(cat_dtype)\n",
      "\u001b[1;31mNameError\u001b[0m: name 'df_new' is not defined"
     ]
    }
   ],
   "source": [
    "credit_ordinal = df_new['CreditGrade'].value_counts().index.sort_values()\n",
    "\n",
    "cat_dtype = pd.api.types.CategoricalDtype(ordered=True,categories=credit_ordinal)\n",
    "\n",
    "df_new['CreditGrade'] = df_new['CreditGrade'].astype(cat_dtype)"
   ]
  },
  {
   "cell_type": "code",
   "execution_count": 28,
   "metadata": {},
   "outputs": [],
   "source": [
    "LoanStatus_order = ['Current', 'Completed','FinalPaymentInProgress', 'PastDue(1-15days)', 'PastDue(16-30days)', 'PastDue(31-60days)','PastDue(61-90days)', 'PastDue(91-120days)', 'PastDue(120days)', 'Chargedoff', 'defaulted']\n",
    "dtype = pd.api.types.CategoricalDtype(ordered=True,categories=LoanStatus_order)\n",
    "sample_loansdata['LoanStatus'] = sample_loansdata['LoanStatus'].astype(dtype)"
   ]
  },
  {
   "cell_type": "code",
   "execution_count": 29,
   "metadata": {},
   "outputs": [
    {
     "data": {
      "image/png": "[encoded data removed]",
      "text/plain": [
       "<Figure size 576x360 with 1 Axes>"
      ]
     },
     "metadata": {
      "needs_background": "light"
     },
     "output_type": "display_data"
    }
   ],
   "source": [
    "plt.figure(figsize = [8,5])\n",
    "sb.countplot(data =sample_loansdata, x = 'LoanStatus', color='black');\n",
    "plt.xticks(rotation=90);"
   ]
  },
  {
   "cell_type": "code",
   "execution_count": 30,
   "metadata": {},
   "outputs": [
    {
     "data": {
      "text/plain": [
       "Current                   272\n",
       "Completed                 151\n",
       "Chargedoff                 55\n",
       "FinalPaymentInProgress      2\n",
       "PastDue(1-15days)           0\n",
       "PastDue(16-30days)          0\n",
       "PastDue(31-60days)          0\n",
       "PastDue(61-90days)          0\n",
       "PastDue(91-120days)         0\n",
       "PastDue(120days)            0\n",
       "defaulted                   0\n",
       "Name: LoanStatus, dtype: int64"
      ]
     },
     "execution_count": 30,
     "metadata": {},
     "output_type": "execute_result"
    }
   ],
   "source": [
    "sample_loansdata['LoanStatus'].value_counts()"
   ]
  },
  {
   "cell_type": "markdown",
   "metadata": {},
   "source": [
    "# answer\n",
    "\n",
    "Majority of the people had a current loan status as compaired to those who had completed, the charged off and those who had defaulted among others."
   ]
  },
  {
   "cell_type": "code",
   "execution_count": 32,
   "metadata": {},
   "outputs": [
    {
     "data": {
      "text/plain": [
       "$25,000-49,999    152\n",
       "$50,000-74,999    150\n",
       "$100,000+          97\n",
       "$75,000-99,999     68\n",
       "$1-24,999          27\n",
       "$0                  5\n",
       "Not employed        1\n",
       "Name: IncomeRange, dtype: int64"
      ]
     },
     "execution_count": 32,
     "metadata": {},
     "output_type": "execute_result"
    }
   ],
   "source": [
    "sample_loansdata['IncomeRange'].value_counts()"
   ]
  },
  {
   "cell_type": "code",
   "execution_count": 22,
   "metadata": {},
   "outputs": [
    {
     "ename": "NameError",
     "evalue": "name 'df_new' is not defined",
     "output_type": "error",
     "traceback": [
      "\u001b[1;31m---------------------------------------------------------------------------\u001b[0m",
      "\u001b[1;31mNameError\u001b[0m                                 Traceback (most recent call last)",
      "Input \u001b[1;32mIn [22]\u001b[0m, in \u001b[0;36m<cell line: 1>\u001b[1;34m()\u001b[0m\n\u001b[1;32m----> 1\u001b[0m credit_ordinal \u001b[38;5;241m=\u001b[39m \u001b[43mdf_new\u001b[49m[\u001b[38;5;124m'\u001b[39m\u001b[38;5;124mCreditGrade\u001b[39m\u001b[38;5;124m'\u001b[39m]\u001b[38;5;241m.\u001b[39mvalue_counts()\u001b[38;5;241m.\u001b[39mindex\u001b[38;5;241m.\u001b[39msort_values()\n\u001b[0;32m      3\u001b[0m cat_dtype \u001b[38;5;241m=\u001b[39m pd\u001b[38;5;241m.\u001b[39mapi\u001b[38;5;241m.\u001b[39mtypes\u001b[38;5;241m.\u001b[39mCategoricalDtype(ordered\u001b[38;5;241m=\u001b[39m\u001b[38;5;28;01mTrue\u001b[39;00m,categories\u001b[38;5;241m=\u001b[39mcredit_ordinal)\n\u001b[0;32m      5\u001b[0m df_new[\u001b[38;5;124m'\u001b[39m\u001b[38;5;124mCreditGrade\u001b[39m\u001b[38;5;124m'\u001b[39m] \u001b[38;5;241m=\u001b[39m df_new[\u001b[38;5;124m'\u001b[39m\u001b[38;5;124mCreditGrade\u001b[39m\u001b[38;5;124m'\u001b[39m]\u001b[38;5;241m.\u001b[39mastype(cat_dtype)\n",
      "\u001b[1;31mNameError\u001b[0m: name 'df_new' is not defined"
     ]
    }
   ],
   "source": [
    "credit_ordinal = df_new['CreditGrade'].value_counts().index.sort_values()\n",
    "\n",
    "cat_dtype = pd.api.types.CategoricalDtype(ordered=True,categories=credit_ordinal)\n",
    "\n",
    "df_new['CreditGrade'] = df_new['CreditGrade'].astype(cat_dtype)"
   ]
  },
  {
   "cell_type": "code",
   "execution_count": null,
   "metadata": {},
   "outputs": [],
   "source": []
  },
  {
   "cell_type": "code",
   "execution_count": 33,
   "metadata": {},
   "outputs": [
    {
     "data": {
      "text/plain": [
       "5000.000000     16\n",
       "5833.333333     13\n",
       "5416.666667     12\n",
       "2500.000000     12\n",
       "2916.666667     11\n",
       "                ..\n",
       "87.333333        1\n",
       "2583.333333      1\n",
       "5116.666667      1\n",
       "11750.000000     1\n",
       "2849.583333      1\n",
       "Name: StatedMonthlyIncome, Length: 222, dtype: int64"
      ]
     },
     "execution_count": 33,
     "metadata": {},
     "output_type": "execute_result"
    }
   ],
   "source": [
    "sample_loansdata['StatedMonthlyIncome'].value_counts()"
   ]
  },
  {
   "cell_type": "code",
   "execution_count": 34,
   "metadata": {},
   "outputs": [
    {
     "data": {
      "image/png": "[encoded data removed]",
      "text/plain": [
       "<Figure size 432x288 with 1 Axes>"
      ]
     },
     "metadata": {
      "needs_background": "light"
     },
     "output_type": "display_data"
    }
   ],
   "source": [
    "sb.countplot(data=sample_loansdata, x='StatedMonthlyIncome')\n",
    "plt.xlabel('StatedMonthlyIncome')\n",
    "plt.ylabel('count');"
   ]
  },
  {
   "cell_type": "code",
   "execution_count": 35,
   "metadata": {},
   "outputs": [
    {
     "data": {
      "image/png": "[encoded data removed]",
      "text/plain": [
       "<Figure size 432x288 with 1 Axes>"
      ]
     },
     "metadata": {
      "needs_background": "light"
     },
     "output_type": "display_data"
    }
   ],
   "source": [
    "plt.hist(data=sample_loansdata, x='BorrowerRate', bins=200)\n",
    "plt.xlabel('BorrowerRate')\n",
    "plt.ylabel('count');"
   ]
  },
  {
   "cell_type": "code",
   "execution_count": 36,
   "metadata": {},
   "outputs": [
    {
     "data": {
      "image/png": "[encoded data removed]",
      "text/plain": [
       "<Figure size 432x288 with 1 Axes>"
      ]
     },
     "metadata": {
      "needs_background": "light"
     },
     "output_type": "display_data"
    }
   ],
   "source": [
    "sb.countplot(data=sample_loansdata, x='BorrowerAPR')\n",
    "plt.xlabel('BorrowerAPR')\n",
    "plt.ylabel('count');"
   ]
  },
  {
   "cell_type": "markdown",
   "metadata": {},
   "source": [
    "# Interest rates"
   ]
  },
  {
   "cell_type": "code",
   "execution_count": 37,
   "metadata": {},
   "outputs": [
    {
     "data": {
      "image/png": "[encoded data removed]",
      "text/plain": [
       "<Figure size 432x288 with 1 Axes>"
      ]
     },
     "metadata": {
      "needs_background": "light"
     },
     "output_type": "display_data"
    }
   ],
   "source": [
    "plt.hist(data=sample_loansdata, x='BorrowerRate', bins=200)\n",
    "plt.xlabel('BorrowerRate')\n",
    "plt.ylabel('count');"
   ]
  },
  {
   "cell_type": "markdown",
   "metadata": {},
   "source": [
    "# LenderYield"
   ]
  },
  {
   "cell_type": "code",
   "execution_count": 41,
   "metadata": {},
   "outputs": [
    {
     "data": {
      "image/png": "[encoded data removed]",
      "text/plain": [
       "<Figure size 432x288 with 1 Axes>"
      ]
     },
     "metadata": {
      "needs_background": "light"
     },
     "output_type": "display_data"
    }
   ],
   "source": [
    "plt.hist(data=loans_data, x='LenderYield', bins=200)\n",
    "plt.xlabel('LenderYield')\n",
    "plt.ylabel('count');"
   ]
  },
  {
   "cell_type": "markdown",
   "metadata": {},
   "source": [
    "# ListingCategory (numeric)"
   ]
  },
  {
   "cell_type": "code",
   "execution_count": 45,
   "metadata": {},
   "outputs": [
    {
     "data": {
      "text/plain": [
       "1     57199\n",
       "7     10398\n",
       "0      9347\n",
       "2      7391\n",
       "3      7184\n",
       "6      2561\n",
       "4      2392\n",
       "13     1975\n",
       "15     1500\n",
       "18      880\n",
       "14      865\n",
       "20      769\n",
       "19      758\n",
       "5       756\n",
       "16      304\n",
       "11      217\n",
       "8       199\n",
       "10       91\n",
       "9        85\n",
       "12       58\n",
       "17       51\n",
       "Name: ListingCategory (numeric), dtype: int64"
      ]
     },
     "execution_count": 45,
     "metadata": {},
     "output_type": "execute_result"
    }
   ],
   "source": [
    "loans_data['ListingCategory (numeric)'].value_counts()"
   ]
  },
  {
   "cell_type": "code",
   "execution_count": 44,
   "metadata": {},
   "outputs": [
    {
     "data": {
      "image/png": "[encoded data removed]",
      "text/plain": [
       "<Figure size 432x288 with 1 Axes>"
      ]
     },
     "metadata": {
      "needs_background": "light"
     },
     "output_type": "display_data"
    }
   ],
   "source": [
    "plt.hist(data=loans_data, x='ListingCategory (numeric)', bins=50)\n",
    "plt.xlabel('ListingCategory (numeric)')\n",
    "plt.ylabel('count');"
   ]
  },
  {
   "cell_type": "code",
   "execution_count": null,
   "metadata": {},
   "outputs": [],
   "source": [
    "# findings\n",
    "loans_data['Term'].value_counts()"
   ]
  },
  {
   "cell_type": "code",
   "execution_count": null,
   "metadata": {},
   "outputs": [],
   "source": []
  },
  {
   "cell_type": "markdown",
   "metadata": {},
   "source": [
    "# findings\n",
    "Majority of the rates falled between 0.13 to 0.22 although there was some ouliers in the data"
   ]
  },
  {
   "cell_type": "markdown",
   "metadata": {},
   "source": [
    "\n",
    "\n",
    ">**Rubric Tip**: Visualizations should depict the data appropriately so that the plots are easily interpretable. You should choose an appropriate plot type, data encodings, and formatting as needed. The formatting may include setting/adding the title, labels, legend, and comments. Also, do not overplot or incorrectly plot ordinal data."
   ]
  },
  {
   "cell_type": "code",
   "execution_count": null,
   "metadata": {},
   "outputs": [],
   "source": []
  },
  {
   "cell_type": "markdown",
   "metadata": {},
   "source": [
    "### Discuss the distribution(s) of your variable(s) of interest. Were there any unusual points? Did you need to perform any transformations?\n",
    "\n",
    "> Your answer here!\n",
    "\n",
    "### Of the features you investigated, were there any unusual distributions? Did you perform any operations on the data to tidy, adjust, or change the form of the data? If so, why did you do this?\n",
    "\n",
    "> Your answer here!"
   ]
  },
  {
   "cell_type": "markdown",
   "metadata": {},
   "source": [
    "## Bivariate Exploration\n",
    "\n",
    "> In this section, investigate relationships between pairs of variables in your\n",
    "data. Make sure the variables that you cover here have been introduced in some\n",
    "fashion in the previous section (univariate exploration)."
   ]
  },
  {
   "cell_type": "code",
   "execution_count": null,
   "metadata": {},
   "outputs": [],
   "source": []
  },
  {
   "cell_type": "markdown",
   "metadata": {},
   "source": [
    "### Talk about some of the relationships you observed in this part of the investigation. How did the feature(s) of interest vary with other features in the dataset?\n",
    "\n",
    "> Your answer here!\n",
    "\n",
    "### Did you observe any interesting relationships between the other features (not the main feature(s) of interest)?\n",
    "\n",
    "> Your answer here!"
   ]
  },
  {
   "cell_type": "markdown",
   "metadata": {},
   "source": [
    "## Multivariate Exploration\n",
    "\n",
    "> Create plots of three or more variables to investigate your data even\n",
    "further. Make sure that your investigations are justified, and follow from\n",
    "your work in the previous sections."
   ]
  },
  {
   "cell_type": "code",
   "execution_count": null,
   "metadata": {},
   "outputs": [],
   "source": []
  },
  {
   "cell_type": "markdown",
   "metadata": {},
   "source": [
    "### Talk about some of the relationships you observed in this part of the investigation. Were there features that strengthened each other in terms of looking at your feature(s) of interest?\n",
    "\n",
    "> Your answer here!\n",
    "\n",
    "### Were there any interesting or surprising interactions between features?\n",
    "\n",
    "> Your answer here!"
   ]
  },
  {
   "cell_type": "markdown",
   "metadata": {},
   "source": [
    "## Conclusions\n",
    ">You can write a summary of the main findings and reflect on the steps taken during the data exploration.\n"
   ]
  },
  {
   "cell_type": "markdown",
   "metadata": {},
   "source": [
    "\n",
    "> Remove all Tips mentioned above, before you convert this notebook to PDF/HTML\n",
    "\n",
    "\n",
    "> At the end of your report, make sure that you export the notebook as an\n",
    "html file from the `File > Download as... > HTML or PDF` menu. Make sure you keep\n",
    "track of where the exported file goes, so you can put it in the same folder\n",
    "as this notebook for project submission. Also, make sure you remove all of\n",
    "the quote-formatted guide notes like this one before you finish your report!\n",
    "\n"
   ]
  },
  {
   "cell_type": "code",
   "execution_count": null,
   "metadata": {},
   "outputs": [],
   "source": []
  }
 ],
 "metadata": {
  "kernelspec": {
   "display_name": "Python 3 (ipykernel)",
   "language": "python",
   "name": "python3"
  },
  "language_info": {
   "codemirror_mode": {
    "name": "ipython",
    "version": 3
   },
   "file_extension": ".py",
   "mimetype": "text/x-python",
   "name": "python",
   "nbconvert_exporter": "python",
   "pygments_lexer": "ipython3",
   "version": "3.9.12"
  }
 },
 "nbformat": 4,
 "nbformat_minor": 2
}
